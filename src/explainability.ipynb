{
 "cells": [
  {
   "cell_type": "code",
   "execution_count": null,
   "metadata": {},
   "outputs": [],
   "source": [
    "from experiments import *"
   ]
  },
  {
   "cell_type": "code",
   "execution_count": null,
   "metadata": {},
   "outputs": [],
   "source": [
    "experiment = PB_Learn(wandb_save=False, reward_type=\"PB\", verbose=True)\n",
    "experiment.set_agent(\"DQN\")\n",
    "#replaced with hyperparameters for DQN agent\n",
    "#originally said 2**13 = 8192 but 32768 = 2**15\n",
    "experiment.learning_loop_offline(256, 2**15, per_is=True)\n",
    "experiment.feature_plots(500)"
   ]
  }
 ],
 "metadata": {
  "language_info": {
   "name": "python"
  },
  "orig_nbformat": 4
 },
 "nbformat": 4,
 "nbformat_minor": 2
}
